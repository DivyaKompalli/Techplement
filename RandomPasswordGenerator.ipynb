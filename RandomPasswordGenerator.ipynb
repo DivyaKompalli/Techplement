{
 "cells": [
  {
   "cell_type": "code",
   "execution_count": null,
   "id": "300b47cf-6f6a-4656-93e2-91eddb4867ff",
   "metadata": {},
   "outputs": [],
   "source": [
    "import string\n",
    "import random\n",
    "\n",
    "length = int(input(\"Enter password Size: \"))\n",
    "\n",
    "print('''Choose character set for password from these : \n",
    "        1. letters\n",
    "        2. digits\n",
    "        3. Special characters\n",
    "        4. Exit''')\n",
    "\n",
    "charList = \"\"\n",
    "\n",
    "\n",
    "while(True):\n",
    "    choice = int(input(\"Pick a number \"))\n",
    "    if(choice == 1):\n",
    "        # Adding alphabets\n",
    "        print('''Please pick the type of alphabet:\n",
    "                1.Uppercase\n",
    "                2.Lowercase\n",
    "                3.Both\n",
    "                4.break''')\n",
    "        while(True):\n",
    "            ch=int(input(\"Pick a number \"))\n",
    "            if(ch==1):\n",
    "                charList += string.ascii_lowercase\n",
    "            elif(ch==2):\n",
    "                charList += string.ascii_uppercase\n",
    "            elif(ch==3):\n",
    "                charList += string.ascii_letters\n",
    "            elif(ch==4):\n",
    "                break\n",
    "    elif(choice == 2):\n",
    "        \n",
    "        # Adding digits \n",
    "        charList += string.digits\n",
    "    elif(choice == 3):\n",
    "        \n",
    "        # Adding special characters \n",
    "        charList += string.punctuation\n",
    "    elif(choice == 4):\n",
    "        break\n",
    "    else:\n",
    "        print(\"Please pick a valid option!\")\n",
    "\n",
    "password = []\n",
    "\n",
    "for i in range(length):\n",
    "\n",
    "    # Picking a random character \n",
    "    \n",
    "    randomch = random.choice(charList)\n",
    "    \n",
    "    # adding a random character to password\n",
    "    password.append(randomch)\n",
    "\n",
    "# printing password as a string\n",
    "print(\"The random password is \" + \"\".join(password))\n"
   ]
  },
  {
   "cell_type": "code",
   "execution_count": null,
   "id": "4d6d03fb-3e65-47a9-b98e-578718a671ad",
   "metadata": {},
   "outputs": [],
   "source": []
  },
  {
   "cell_type": "code",
   "execution_count": null,
   "id": "654c41ee-4894-49ef-8891-dad4e6d4beeb",
   "metadata": {},
   "outputs": [],
   "source": []
  }
 ],
 "metadata": {
  "kernelspec": {
   "display_name": "Python 3 (ipykernel)",
   "language": "python",
   "name": "python3"
  },
  "language_info": {
   "codemirror_mode": {
    "name": "ipython",
    "version": 3
   },
   "file_extension": ".py",
   "mimetype": "text/x-python",
   "name": "python",
   "nbconvert_exporter": "python",
   "pygments_lexer": "ipython3",
   "version": "3.11.9"
  }
 },
 "nbformat": 4,
 "nbformat_minor": 5
}
